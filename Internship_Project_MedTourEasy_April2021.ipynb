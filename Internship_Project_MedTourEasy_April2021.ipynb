{
 "cells": [
  {
   "cell_type": "markdown",
   "id": "a94d660c",
   "metadata": {},
   "source": [
    "# American Sign Language Classification using Deep Learning"
   ]
  },
  {
   "cell_type": "markdown",
   "id": "54298272",
   "metadata": {},
   "source": [
    "####  American Sign Language (ASL)\n",
    "<p>American Sign Language (ASL) is the primary language used by many deaf individuals in North America, and it is also used by hard-of-hearing and hearing individuals.  The language is as rich as spoken languages and employs signs made with the hand, along with facial gestures and bodily postures.</p>\n",
    "<p><strong>In this notebook</strong>, we will train a convolutional neural network(CNN) to classify images of American Sign Language (ASL) letters.  After loading, examining, and preprocessing the data, we will train the network and test its performance. We have just taken 3 lables to classify ['A','B','C'] which is already encoded as 0,1,2</p>"
   ]
  },
  {
   "cell_type": "markdown",
   "id": "02d7fa64",
   "metadata": {},
   "source": [
    "## 1. Import the required packages and the dataset"
   ]
  },
  {
   "cell_type": "code",
   "execution_count": 93,
   "id": "d9511bf4",
   "metadata": {},
   "outputs": [],
   "source": [
    "# Import packages and set numpy random seed\n",
    "import pandas as pd\n",
    "import numpy as np\n",
    "np.random.seed(5) \n",
    "import tensorflow as tf\n",
    "tf.random.set_seed(2)\n",
    "from datasets import sign_language\n",
    "import matplotlib.pyplot as plt\n",
    "%matplotlib inline"
   ]
  },
  {
   "cell_type": "code",
   "execution_count": 94,
   "id": "8f5d2c8e",
   "metadata": {},
   "outputs": [],
   "source": [
    "# Load training and test datasets\n",
    "(x_train, y_train), (x_test, y_test) = sign_language.load_data()"
   ]
  },
  {
   "cell_type": "code",
   "execution_count": 95,
   "id": "e6c7a00f",
   "metadata": {},
   "outputs": [
    {
     "data": {
      "text/plain": [
       "(1600, 50, 50, 3)"
      ]
     },
     "execution_count": 95,
     "metadata": {},
     "output_type": "execute_result"
    }
   ],
   "source": [
    "x_train.shape"
   ]
  },
  {
   "cell_type": "code",
   "execution_count": 96,
   "id": "4b5766fb",
   "metadata": {},
   "outputs": [
    {
     "data": {
      "text/plain": [
       "(400, 50, 50, 3)"
      ]
     },
     "execution_count": 96,
     "metadata": {},
     "output_type": "execute_result"
    }
   ],
   "source": [
    "x_test.shape"
   ]
  },
  {
   "cell_type": "code",
   "execution_count": 97,
   "id": "b890f169",
   "metadata": {},
   "outputs": [],
   "source": [
    "# Training data has 1600 color images\n",
    "# Testing data has 400 color images"
   ]
  },
  {
   "cell_type": "markdown",
   "id": "84fb509f",
   "metadata": {},
   "source": [
    "## 2. Visualize A,B,C images from the training data"
   ]
  },
  {
   "cell_type": "code",
   "execution_count": 99,
   "id": "84ab0b9b",
   "metadata": {},
   "outputs": [
    {
     "data": {
      "text/plain": [
       "[1, 6, 0]"
      ]
     },
     "execution_count": 99,
     "metadata": {},
     "output_type": "execute_result"
    }
   ],
   "source": [
    "# Finding the first index of the A,B,C from the training data\n",
    "img_indices=[]\n",
    "index_A=list(np.where(y_train==0))[0][0]\n",
    "index_B=list(np.where(y_train==1))[0][0]\n",
    "index_C=list(np.where(y_train==2))[0][0]\n",
    "img_indices.append(index_A)\n",
    "img_indices.append(index_B)\n",
    "img_indices.append(index_C)\n",
    "img_indices"
   ]
  },
  {
   "cell_type": "code",
   "execution_count": 100,
   "id": "83dbcbb3",
   "metadata": {},
   "outputs": [],
   "source": [
    "# We see that A,B,C labels are at 1,6,0 index positions respectively.\n",
    "# We will use this to visualize the images as done below."
   ]
  },
  {
   "cell_type": "code",
   "execution_count": 101,
   "id": "24acb341",
   "metadata": {},
   "outputs": [
    {
     "data": {
      "image/png": "[encoded data removed]",
      "text/plain": [
       "<Figure size 720x1440 with 3 Axes>"
      ]
     },
     "metadata": {
      "needs_background": "light"
     },
     "output_type": "display_data"
    }
   ],
   "source": [
    "label_map={0:\"A\",1:\"B\",2:\"C\"}\n",
    "plt.figure(figsize=(10,20))\n",
    "plt.subplot(1,3,1)\n",
    "img=y_train[img_indices[0]]\n",
    "labl=label_map.get(img)\n",
    "plt.imshow(x_train[img_indices[0],:,:])\n",
    "plt.axis('off'), plt.title(\"Actual label:\"+labl)\n",
    "\n",
    "plt.subplot(1,3,2)\n",
    "img=y_train[img_indices[1]]\n",
    "labl=label_map.get(img)\n",
    "plt.imshow(x_train[img_indices[1],:,:])\n",
    "plt.axis('off'), plt.title(\"Actual label:\"+labl)\n",
    "\n",
    "plt.subplot(1,3,3)\n",
    "img=y_train[img_indices[2]]\n",
    "labl=label_map.get(img)\n",
    "plt.imshow(x_train[img_indices[2],:,:])\n",
    "plt.axis('off'), plt.title(\"Actual label:\"+labl)\n",
    "\n",
    "plt.show()"
   ]
  },
  {
   "cell_type": "markdown",
   "id": "b31894e2",
   "metadata": {},
   "source": [
    "## 3. Examine the dataset"
   ]
  },
  {
   "cell_type": "code",
   "execution_count": 102,
   "id": "ef2c0c58",
   "metadata": {},
   "outputs": [
    {
     "name": "stdout",
     "output_type": "stream",
     "text": [
      "Train Data:\n",
      "No. of images in Class 0(A): 540\n",
      "No. of images in Class 1(B): 528\n",
      "No. of images in Class 2(C): 532\n",
      "\n",
      "Test Data:\n",
      "No. of images in Class 0(A): 118\n",
      "No. of images in Class 1(B): 144\n",
      "No. of images in Class 2(C): 138\n"
     ]
    }
   ],
   "source": [
    "# We will see how many images are there in each class 0,1,2(A,B,C) both in train and test datasets\n",
    "\n",
    "train_0=len(y_train[y_train==0])\n",
    "train_1=len(y_train[y_train==1])\n",
    "train_2=len(y_train[y_train==2])\n",
    "\n",
    "test_0=len(y_test[y_test==0])\n",
    "test_1=len(y_test[y_test==1])\n",
    "test_2=len(y_test[y_test==2])\n",
    "\n",
    "print(\"Train Data:\")\n",
    "print(\"No. of images in Class 0(A):\",train_0)\n",
    "print(\"No. of images in Class 1(B):\",train_1)\n",
    "print(\"No. of images in Class 2(C):\",train_2)\n",
    "print()\n",
    "print(\"Test Data:\")\n",
    "print(\"No. of images in Class 0(A):\",test_0)\n",
    "print(\"No. of images in Class 1(B):\",test_1)\n",
    "print(\"No. of images in Class 2(C):\",test_2)"
   ]
  },
  {
   "cell_type": "code",
   "execution_count": 103,
   "id": "e8c396e9",
   "metadata": {},
   "outputs": [],
   "source": [
    "# We see that the labels are pretty balanced in the training data which is good. No class imbalance see."
   ]
  },
  {
   "cell_type": "markdown",
   "id": "0ca8bff8",
   "metadata": {},
   "source": [
    "## 4. Encode the labels"
   ]
  },
  {
   "cell_type": "code",
   "execution_count": 104,
   "id": "0bac269d",
   "metadata": {},
   "outputs": [],
   "source": [
    "# Class A,B,C in y_train and y_test are encoded as 0,1,2. But to use keras, we would need to perform ONE-HOT ENCODING.\n",
    "#0 is encoded as [1, 0, 0],\n",
    "#1 is encoded as [0, 1, 0],\n",
    "#2 is encoded as [0, 0, 1]."
   ]
  },
  {
   "cell_type": "code",
   "execution_count": 105,
   "id": "45600fdd",
   "metadata": {},
   "outputs": [],
   "source": [
    "y_train_encoded = tf.keras.utils.to_categorical(y_train, num_classes=3)\n",
    "y_test_encoded = tf.keras.utils.to_categorical(y_test, num_classes=3)"
   ]
  },
  {
   "cell_type": "code",
   "execution_count": 106,
   "id": "4b79a7d0",
   "metadata": {},
   "outputs": [
    {
     "data": {
      "text/plain": [
       "(1600, 3)"
      ]
     },
     "execution_count": 106,
     "metadata": {},
     "output_type": "execute_result"
    }
   ],
   "source": [
    "y_train_encoded.shape"
   ]
  },
  {
   "cell_type": "code",
   "execution_count": 107,
   "id": "bec02f4d",
   "metadata": {},
   "outputs": [
    {
     "data": {
      "text/plain": [
       "(400, 3)"
      ]
     },
     "execution_count": 107,
     "metadata": {},
     "output_type": "execute_result"
    }
   ],
   "source": [
    "y_test_encoded.shape"
   ]
  },
  {
   "cell_type": "code",
   "execution_count": null,
   "id": "4a5df2c8",
   "metadata": {},
   "outputs": [],
   "source": [
    "# We can see a column add for each label amounting to 3 columns in the encoded y_train and y_test."
   ]
  },
  {
   "cell_type": "markdown",
   "id": "baae5db3",
   "metadata": {},
   "source": [
    "## 5. Model Building"
   ]
  },
  {
   "cell_type": "code",
   "execution_count": 108,
   "id": "c88b6200",
   "metadata": {},
   "outputs": [],
   "source": [
    "# We will now build a convolution neural network and verify the performance for accuracy and overfitting."
   ]
  },
  {
   "cell_type": "code",
   "execution_count": 109,
   "id": "d3adc5a1",
   "metadata": {},
   "outputs": [
    {
     "name": "stdout",
     "output_type": "stream",
     "text": [
      "Model: \"sequential\"\n",
      "_________________________________________________________________\n",
      "Layer (type)                 Output Shape              Param #   \n",
      "=================================================================\n",
      "conv2d (Conv2D)              (None, 50, 50, 5)         380       \n",
      "_________________________________________________________________\n",
      "max_pooling2d (MaxPooling2D) (None, 12, 12, 5)         0         \n",
      "_________________________________________________________________\n",
      "conv2d_1 (Conv2D)            (None, 12, 12, 15)        1890      \n",
      "_________________________________________________________________\n",
      "max_pooling2d_1 (MaxPooling2 (None, 3, 3, 15)          0         \n",
      "_________________________________________________________________\n",
      "flatten (Flatten)            (None, 135)               0         \n",
      "_________________________________________________________________\n",
      "dense (Dense)                (None, 3)                 408       \n",
      "=================================================================\n",
      "Total params: 2,678\n",
      "Trainable params: 2,678\n",
      "Non-trainable params: 0\n",
      "_________________________________________________________________\n"
     ]
    }
   ],
   "source": [
    "from keras.layers import Conv2D, MaxPooling2D\n",
    "from keras.layers import Flatten, Dense\n",
    "from keras.models import Sequential\n",
    "\n",
    "model = Sequential()\n",
    "# First convolutional layer accepts image input\n",
    "model.add(Conv2D(filters=5, kernel_size=5, padding='same', activation='relu',input_shape=(50, 50, 3)))\n",
    "\n",
    "# Add a max pooling layer\n",
    "model.add(MaxPooling2D(pool_size=(4,4)))\n",
    "\n",
    "# Add a convolutional layer\n",
    "model.add(Conv2D(filters=15, kernel_size=5, padding='same', activation='relu',input_shape=(50, 50, 3)))\n",
    "\n",
    "# Add another max pooling layer\n",
    "model.add(MaxPooling2D(pool_size=(4,4)))\n",
    "\n",
    "# Flatten and feed to output layer\n",
    "model.add(Flatten())\n",
    "model.add(Dense(3, activation='softmax'))\n",
    "\n",
    "# Summarize the model\n",
    "model.summary()"
   ]
  },
  {
   "cell_type": "markdown",
   "id": "5d82e77c",
   "metadata": {},
   "source": [
    "## 6. Compling and train the CNN model"
   ]
  },
  {
   "cell_type": "code",
   "execution_count": null,
   "id": "9a067ee3",
   "metadata": {},
   "outputs": [],
   "source": [
    "# We will now aggregate the optimizer,loss and metric to be used."
   ]
  },
  {
   "cell_type": "code",
   "execution_count": 119,
   "id": "9b992224",
   "metadata": {},
   "outputs": [],
   "source": [
    "model.compile(optimizer='adam',loss='categorical_crossentropy', metrics=['accuracy'])"
   ]
  },
  {
   "cell_type": "code",
   "execution_count": 120,
   "id": "bb25d73d",
   "metadata": {},
   "outputs": [
    {
     "name": "stdout",
     "output_type": "stream",
     "text": [
      "Epoch 1/2\n",
      "50/50 [==============================] - 1s 18ms/step - loss: 0.1100 - accuracy: 0.9787\n",
      "Epoch 2/2\n",
      "50/50 [==============================] - 1s 17ms/step - loss: 0.0650 - accuracy: 0.9919\n"
     ]
    }
   ],
   "source": [
    "# Train the model\n",
    "model_fit = model.fit(x_train,y_train_encoded,epochs=2)"
   ]
  },
  {
   "cell_type": "markdown",
   "id": "2179a7ca",
   "metadata": {},
   "source": [
    "## 7. Test the model"
   ]
  },
  {
   "cell_type": "code",
   "execution_count": 121,
   "id": "dd9ac542",
   "metadata": {},
   "outputs": [],
   "source": [
    "# Here we are checking for accuracy and whether the model is overfitting or not."
   ]
  },
  {
   "cell_type": "code",
   "execution_count": 122,
   "id": "e47b895f",
   "metadata": {},
   "outputs": [
    {
     "name": "stdout",
     "output_type": "stream",
     "text": [
      "Train accuracy: 0.9925000071525574\n",
      "Test accuracy: 0.9950000047683716\n"
     ]
    }
   ],
   "source": [
    "# accuracy on train set\n",
    "score_train = model.evaluate(x_train,y_train_encoded,verbose=0)\n",
    "print('Train accuracy:', score_train[1])\n",
    "\n",
    "# accuracy on test set\n",
    "score_test = model.evaluate(x_test,y_test_encoded,verbose=0)\n",
    "print('Test accuracy:', score_test[1])"
   ]
  },
  {
   "cell_type": "code",
   "execution_count": 123,
   "id": "409a28f5",
   "metadata": {},
   "outputs": [],
   "source": [
    "# The constructed CNN model is performing very well with ~99% accuracy both on test aand the train data.\n",
    "# Hence, we can say that there is NO OVERFITTING."
   ]
  },
  {
   "cell_type": "markdown",
   "id": "b4e291b5",
   "metadata": {},
   "source": [
    "## 8. Visualize the misclassified images"
   ]
  },
  {
   "cell_type": "code",
   "execution_count": 156,
   "id": "d7107f5e",
   "metadata": {},
   "outputs": [
    {
     "data": {
      "text/plain": [
       "array([265, 352], dtype=int64)"
      ]
     },
     "execution_count": 156,
     "metadata": {},
     "output_type": "execute_result"
    }
   ],
   "source": [
    "labels = ['A','B','C']\n",
    "\n",
    "# Get predicted labels for test dataset\n",
    "y_preds = model.predict_classes(x_test)\n",
    "\n",
    "# Indices corresponding to test images which were mislabeled\n",
    "mislabeled_indices = np.where(y_test != y_preds)[0]\n",
    "mislabeled_indices"
   ]
  },
  {
   "cell_type": "code",
   "execution_count": 157,
   "id": "8732e605",
   "metadata": {},
   "outputs": [
    {
     "data": {
      "text/plain": [
       "(0, 0)"
      ]
     },
     "execution_count": 157,
     "metadata": {},
     "output_type": "execute_result"
    }
   ],
   "source": [
    "y_preds[265],y_preds[352]"
   ]
  },
  {
   "cell_type": "code",
   "execution_count": 158,
   "id": "d21308df",
   "metadata": {},
   "outputs": [
    {
     "data": {
      "text/plain": [
       "(1, 1)"
      ]
     },
     "execution_count": 158,
     "metadata": {},
     "output_type": "execute_result"
    }
   ],
   "source": [
    "y_test[265],y_test[352]"
   ]
  },
  {
   "cell_type": "code",
   "execution_count": 159,
   "id": "12455bd7",
   "metadata": {},
   "outputs": [],
   "source": [
    "# We see that at indicess 265 and 352 misclassification has occurred.\n",
    "# Both \"B\" signs are misclassified as \"A\"."
   ]
  },
  {
   "cell_type": "code",
   "execution_count": 160,
   "id": "e5751469",
   "metadata": {},
   "outputs": [
    {
     "data": {
      "image/png": "[encoded data removed]",
      "text/plain": [
       "<Figure size 720x1440 with 2 Axes>"
      ]
     },
     "metadata": {
      "needs_background": "light"
     },
     "output_type": "display_data"
    }
   ],
   "source": [
    "label_map={0:\"A\",1:\"B\",2:\"C\"}\n",
    "plt.figure(figsize=(10,20))\n",
    "\n",
    "plt.subplot(1,2,1)\n",
    "img=y_test[mislabeled_indices[0]]\n",
    "img_pred=y_preds[mislabeled_indices[0]]\n",
    "labl=label_map.get(img)\n",
    "labl_pred=label_map.get(img_pred)\n",
    "plt.imshow(x_test[mislabeled_indices[0],:,:])\n",
    "plt.axis('off'), plt.title(\"Actual label:\"+labl+\" & Predicted label:\"+labl_pred)\n",
    "\n",
    "plt.subplot(1,2,2)\n",
    "img=y_test[mislabeled_indices[1]]\n",
    "img_pred=y_preds[mislabeled_indices[1]]\n",
    "labl=label_map.get(img)\n",
    "labl_pred=label_map.get(img_pred)\n",
    "plt.imshow(x_test[mislabeled_indices[1],:,:])\n",
    "plt.axis('off'), plt.title(\"Actual label:\"+labl+\" & Predicted label:\"+labl_pred)\n",
    "\n",
    "plt.show()"
   ]
  },
  {
   "cell_type": "markdown",
   "id": "ce0a7dda",
   "metadata": {},
   "source": [
    "# Conclusion:\n",
    "\n",
    "1. We divided the data into training and test sets with 1600 and 400 images respectively.\n",
    "2. Visualised the training data and familiarised with the sign symbols.\n",
    "3. Labels 'A', 'B' and 'C' are encoded as 0, 1, and 2, respectively for both train and test datasets.\n",
    "4. Defined a convolutional neural network to classify the data.\n",
    "5. Compiled the model with the 'adam' optimizer, 'categorical_crossentropy' as the loss function, and 'accuracy' as a metric.\n",
    "6. Trained the data with the arguments x_train,y_train_encoded,epochs=2.\n",
    "7. The model is a good fit with an accuracy of ~99% on both the train and test datasets.\n",
    "8. Visualised the model prediction mistakes which were only 2 misclassifications."
   ]
  },
  {
   "cell_type": "code",
   "execution_count": null,
   "id": "c499e64f",
   "metadata": {},
   "outputs": [],
   "source": []
  }
 ],
 "metadata": {
  "hide_input": false,
  "kernelspec": {
   "display_name": "Python 3",
   "language": "python",
   "name": "python3"
  },
  "language_info": {
   "codemirror_mode": {
    "name": "ipython",
    "version": 3
   },
   "file_extension": ".py",
   "mimetype": "text/x-python",
   "name": "python",
   "nbconvert_exporter": "python",
   "pygments_lexer": "ipython3",
   "version": "3.8.8"
  }
 },
 "nbformat": 4,
 "nbformat_minor": 5
}
